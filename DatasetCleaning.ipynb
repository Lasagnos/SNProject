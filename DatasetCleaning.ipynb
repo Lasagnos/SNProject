{
 "cells": [
  {
   "cell_type": "markdown",
   "id": "5568336f",
   "metadata": {},
   "source": [
    "### Code needed to clean the csv datasets"
   ]
  },
  {
   "cell_type": "code",
   "execution_count": 14,
   "id": "fa7d4a88",
   "metadata": {},
   "outputs": [],
   "source": [
    "import os\n",
    "import csv\n",
    "\n",
    "# Create the output directory if it doesn't exist\n",
    "os.makedirs('Dataset/Cleaned', exist_ok=True)"
   ]
  },
  {
   "cell_type": "code",
   "execution_count": null,
   "id": "82ae8c9a",
   "metadata": {},
   "outputs": [],
   "source": [
    "def clean_edgelist(input_file, output_file, delimiter_in):\n",
    "    with open(input_file, \"r\", encoding=\"utf-8\") as infile, \\\n",
    "         open(output_file, \"w\", encoding=\"utf-8\", newline='') as outfile:\n",
    "\n",
    "        reader = csv.reader(infile, delimiter=delimiter_in)\n",
    "        writer = csv.writer(outfile)\n",
    "\n",
    "        # Skip the header\n",
    "        next(reader)\n",
    "\n",
    "        for row in reader:\n",
    "            if not row or len(row) < 3:\n",
    "                continue\n",
    "            # Remove 'N' prefix and convert to int for Source and Target\n",
    "            try:\n",
    "                row[0] = int(row[0].replace(\"N\", \"\"))\n",
    "                row[1] = int(row[1].replace(\"N\", \"\"))\n",
    "            except ValueError:\n",
    "                # If conversion fails, keep original\n",
    "                pass\n",
    "            # Weight should stay as is or convert to int\n",
    "            row[2] = int(row[2])\n",
    "            writer.writerow(row)"
   ]
  },
  {
   "cell_type": "code",
   "execution_count": null,
   "id": "2ee85141",
   "metadata": {},
   "outputs": [],
   "source": [
    "# Clean Meetings dataset (space separated)\n",
    "clean_edgelist(\"Dataset/Original/Montagna_Meetings_Edgelist.csv\",\n",
    "            \"Dataset/Cleaned/Montagna_Meetings_Clean.csv\",\n",
    "            delimiter_in=',')\n",
    "\n",
    "# Clean Phone Calls dataset (comma separated)\n",
    "clean_edgelist(\"Dataset/Original/Montagna_Phone_Calls_Edgelist.csv\",\n",
    "            \"Dataset/Cleaned/Montagna_Phone_Calls_Clean.csv\",\n",
    "            delimiter_in=',')"
   ]
  },
  {
   "cell_type": "code",
   "execution_count": 10,
   "id": "2304f524",
   "metadata": {},
   "outputs": [],
   "source": [
    "# === CLEAN ROLES DATA ===\n",
    "with open('Dataset/Original/Montagna_Roles.csv', 'r', encoding='utf-8') as infile, \\\n",
    "     open('Dataset/Cleaned/Montagna_Roles_Clean.csv', 'w', encoding='utf-8', newline='') as outfile:\n",
    "\n",
    "    reader = csv.reader(infile)\n",
    "    writer = csv.writer(outfile)\n",
    "\n",
    "    header = next(reader)\n",
    "    writer.writerow(header)  # Write same header: Node,Role,Relationship,Request\n",
    "\n",
    "    for row in reader:\n",
    "        node = row[0].replace('N', '') if row[0] else ''\n",
    "        role = row[1] if len(row) > 1 else ''\n",
    "        relationship = row[2] if len(row) > 2 else ''\n",
    "        request = row[3] if len(row) > 3 else ''\n",
    "        writer.writerow([node, role, relationship, request])"
   ]
  }
 ],
 "metadata": {
  "kernelspec": {
   "display_name": "Python 3",
   "language": "python",
   "name": "python3"
  },
  "language_info": {
   "codemirror_mode": {
    "name": "ipython",
    "version": 3
   },
   "file_extension": ".py",
   "mimetype": "text/x-python",
   "name": "python",
   "nbconvert_exporter": "python",
   "pygments_lexer": "ipython3",
   "version": "3.12.0"
  }
 },
 "nbformat": 4,
 "nbformat_minor": 5
}
